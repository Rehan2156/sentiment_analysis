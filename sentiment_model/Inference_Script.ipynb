{
 "cells": [
  {
   "cell_type": "code",
   "execution_count": 7,
   "metadata": {},
   "outputs": [
    {
     "name": "stdout",
     "output_type": "stream",
     "text": [
      " * Serving Flask app \"__main__\" (lazy loading)\n",
      " * Environment: production\n",
      "\u001b[31m   WARNING: This is a development server. Do not use it in a production deployment.\u001b[0m\n",
      "\u001b[2m   Use a production WSGI server instead.\u001b[0m\n",
      " * Debug mode: off\n"
     ]
    },
    {
     "name": "stderr",
     "output_type": "stream",
     "text": [
      " * Running on http://0.0.0.0:5000/ (Press CTRL+C to quit)\n",
      "127.0.0.1 - - [23/May/2020 10:30:33] \"\u001b[37mPOST /predict HTTP/1.1\u001b[0m\" 200 -\n"
     ]
    },
    {
     "name": "stdout",
     "output_type": "stream",
     "text": [
      "positive sentiment; 97.72 confidence\n"
     ]
    },
    {
     "name": "stderr",
     "output_type": "stream",
     "text": [
      "127.0.0.1 - - [23/May/2020 10:30:47] \"\u001b[37mPOST /predict HTTP/1.1\u001b[0m\" 200 -\n",
      "127.0.0.1 - - [23/May/2020 10:31:10] \"\u001b[37mPOST /predict HTTP/1.1\u001b[0m\" 200 -\n"
     ]
    },
    {
     "name": "stdout",
     "output_type": "stream",
     "text": [
      "'😩' not in training corpus; ignoring.\n",
      "negative sentiment; 98.40 confidence\n"
     ]
    }
   ],
   "source": [
    "import json\n",
    "import numpy as np\n",
    "import tensorflow.keras as keras\n",
    "import tensorflow.keras.preprocessing.text as kpt\n",
    "from tensorflow.keras.preprocessing.text import Tokenizer\n",
    "from tensorflow.keras.models import load_model\n",
    "import flask\n",
    "\n",
    "app = flask.Flask(__name__)\n",
    "# define a predict function as an endpoint \n",
    "@app.route(\"/predict\", methods=[\"GET\",\"POST\"])\n",
    "def predict():\n",
    "    data = {\"success\": False}\n",
    "    # get the request parameters\n",
    "    params = flask.request.form[\"msg\"]\n",
    "    if (params == None):\n",
    "        params = flask.request.args\n",
    "    # if parameters are found, echo the msg parameter \n",
    "    if (params != None):\n",
    "        # we're still going to use a Tokenizer here, but we don't need to fit it\n",
    "        tokenizer = Tokenizer(num_words=3000)\n",
    "        # for human-friendly printing\n",
    "        labels = ['negative', 'positive']\n",
    "\n",
    "        # read in our saved dictionary\n",
    "        with open('dictionary.json', 'r') as dictionary_file:\n",
    "            dictionary = json.load(dictionary_file)\n",
    "\n",
    "        # this utility makes sure that all the words in your input\n",
    "        # are registered in the dictionary\n",
    "        # before trying to turn them into a matrix.\n",
    "        def convert_text_to_index_array(text):\n",
    "            words = kpt.text_to_word_sequence(text)\n",
    "            wordIndices = []\n",
    "            for word in words:\n",
    "                if word in dictionary:\n",
    "                    wordIndices.append(dictionary[word])\n",
    "                else:\n",
    "                    print(\"'%s' not in training corpus; ignoring.\" %(word))\n",
    "            return wordIndices\n",
    "        \n",
    "        model = load_model('sentiment_model.h5')\n",
    "        evalSentence = flask.request.form[\"msg\"]\n",
    "        if len(evalSentence) > 0:\n",
    "            testArr = convert_text_to_index_array(evalSentence)\n",
    "            input = tokenizer.sequences_to_matrix([testArr], mode='binary')\n",
    "            # predict which bucket your input belongs in\n",
    "            pred = model.predict(input)\n",
    "            # and print it for the humans\n",
    "            data[\"sentiment\"] = labels[np.argmax(pred)]\n",
    "            data[\"confidence\"] = round(pred[0][np.argmax(pred)] * 100, 2)\n",
    "            data[\"success\"] = True\n",
    "            print(\"%s sentiment; %.2f confidence\" % (labels[np.argmax(pred)], round(pred[0][np.argmax(pred)] * 100, 2)))\n",
    "        else:\n",
    "            data[\"success\"] = False\n",
    "    # return a response in json format \n",
    "    return flask.jsonify(data)\n",
    "# start the flask app, allow remote connections\n",
    "app.run(host='0.0.0.0')"
   ]
  },
  {
   "cell_type": "code",
   "execution_count": null,
   "metadata": {},
   "outputs": [],
   "source": []
  }
 ],
 "metadata": {
  "kernelspec": {
   "display_name": "Python 3",
   "language": "python",
   "name": "python3"
  },
  "language_info": {
   "codemirror_mode": {
    "name": "ipython",
    "version": 3
   },
   "file_extension": ".py",
   "mimetype": "text/x-python",
   "name": "python",
   "nbconvert_exporter": "python",
   "pygments_lexer": "ipython3",
   "version": "3.7.7"
  }
 },
 "nbformat": 4,
 "nbformat_minor": 4
}
